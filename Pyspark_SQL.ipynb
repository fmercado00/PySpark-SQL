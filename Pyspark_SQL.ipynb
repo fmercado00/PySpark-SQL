{
  "nbformat": 4,
  "nbformat_minor": 0,
  "metadata": {
    "colab": {
      "name": "Pyspark SQL.ipynb",
      "provenance": []
    },
    "kernelspec": {
      "name": "python3",
      "display_name": "Python 3"
    },
    "language_info": {
      "name": "python"
    }
  },
  "cells": [
    {
      "cell_type": "markdown",
      "source": [
        "# PYSPARK SQL"
      ],
      "metadata": {
        "id": "1vwR09lzuIt9"
      }
    },
    {
      "cell_type": "markdown",
      "source": [
        "## Mount Google Drive"
      ],
      "metadata": {
        "id": "SF2crwxovPqW"
      }
    },
    {
      "cell_type": "code",
      "source": [
        "from google.colab import drive\n",
        "drive.mount('/content/drive')"
      ],
      "metadata": {
        "colab": {
          "base_uri": "https://localhost:8080/"
        },
        "id": "ltLmcTHSumD6",
        "outputId": "36e7923a-ca62-479c-c113-60f2417ac92d"
      },
      "execution_count": null,
      "outputs": [
        {
          "output_type": "stream",
          "name": "stdout",
          "text": [
            "Drive already mounted at /content/drive; to attempt to forcibly remount, call drive.mount(\"/content/drive\", force_remount=True).\n"
          ]
        }
      ]
    },
    {
      "cell_type": "markdown",
      "source": [
        "## Install Pyspark"
      ],
      "metadata": {
        "id": "CT83d-fp2y6d"
      }
    },
    {
      "cell_type": "code",
      "source": [
        "!pip install pyspark"
      ],
      "metadata": {
        "colab": {
          "base_uri": "https://localhost:8080/"
        },
        "id": "YkshydEd22VT",
        "outputId": "74a3d26d-f5cb-4748-91fe-ab9c066dab23"
      },
      "execution_count": null,
      "outputs": [
        {
          "output_type": "stream",
          "name": "stdout",
          "text": [
            "Looking in indexes: https://pypi.org/simple, https://us-python.pkg.dev/colab-wheels/public/simple/\n",
            "Collecting pyspark\n",
            "  Downloading pyspark-3.3.0.tar.gz (281.3 MB)\n",
            "\u001b[K     |████████████████████████████████| 281.3 MB 46 kB/s \n",
            "\u001b[?25hCollecting py4j==0.10.9.5\n",
            "  Downloading py4j-0.10.9.5-py2.py3-none-any.whl (199 kB)\n",
            "\u001b[K     |████████████████████████████████| 199 kB 67.6 MB/s \n",
            "\u001b[?25hBuilding wheels for collected packages: pyspark\n",
            "  Building wheel for pyspark (setup.py) ... \u001b[?25l\u001b[?25hdone\n",
            "  Created wheel for pyspark: filename=pyspark-3.3.0-py2.py3-none-any.whl size=281764026 sha256=75481b4b9d2a7a78a8edf42e53459d77c98b0b8e97b32d46c6167c87c6c8bdb0\n",
            "  Stored in directory: /root/.cache/pip/wheels/7a/8e/1b/f73a52650d2e5f337708d9f6a1750d451a7349a867f928b885\n",
            "Successfully built pyspark\n",
            "Installing collected packages: py4j, pyspark\n",
            "Successfully installed py4j-0.10.9.5 pyspark-3.3.0\n"
          ]
        }
      ]
    },
    {
      "cell_type": "markdown",
      "source": [
        "## Import SparkSession from pyspark.sql"
      ],
      "metadata": {
        "id": "wkSt_b_K2lp2"
      }
    },
    {
      "cell_type": "code",
      "source": [
        "from pyspark.sql import SparkSession\n",
        "spark = SparkSession.builder.getOrCreate()\n",
        "print(spark)"
      ],
      "metadata": {
        "colab": {
          "base_uri": "https://localhost:8080/"
        },
        "id": "h9QSWfrq2pNE",
        "outputId": "9fbf755d-de1f-4ed9-9dde-57ebefefe728"
      },
      "execution_count": null,
      "outputs": [
        {
          "output_type": "stream",
          "name": "stdout",
          "text": [
            "<pyspark.sql.session.SparkSession object at 0x7f01bb9e3250>\n"
          ]
        }
      ]
    },
    {
      "cell_type": "markdown",
      "source": [
        "## Create a SQL table from a dataframe\n",
        "A dataframe can be used to create a temporary table. A temporary table is one that will not exist after the session ends."
      ],
      "metadata": {
        "id": "J1P0HuTRuN2O"
      }
    },
    {
      "cell_type": "markdown",
      "source": [
        "### Load trainsched.txt"
      ],
      "metadata": {
        "id": "TxthyP2Yvz3O"
      }
    },
    {
      "cell_type": "code",
      "source": [
        "filename = '/content/drive/My Drive/trainsched.txt'\n",
        "df = spark.read.csv(filename, header=True)"
      ],
      "metadata": {
        "id": "CL8KRjIquhmg"
      },
      "execution_count": null,
      "outputs": []
    },
    {
      "cell_type": "markdown",
      "source": [
        "### Create temporary table called table1"
      ],
      "metadata": {
        "id": "JjuELytMv3LQ"
      }
    },
    {
      "cell_type": "code",
      "source": [
        "df.createOrReplaceTempView(\"schedule\")"
      ],
      "metadata": {
        "id": "RiTg59o2v-cT"
      },
      "execution_count": null,
      "outputs": []
    },
    {
      "cell_type": "markdown",
      "source": [
        "### Determine the column names of a table\n",
        "\n",
        "Inspect table schema"
      ],
      "metadata": {
        "id": "fd-P7fEg4s5q"
      }
    },
    {
      "cell_type": "code",
      "source": [
        "spark.sql(\"SHOW COLUMNS FROM schedule\").show()\n",
        "\n",
        "spark.sql(\"SELECT * FROM SCHEDULE LIMIT 0\").show()\n",
        "\n",
        "spark.sql(\"DESCRIBE schedule\").show()"
      ],
      "metadata": {
        "colab": {
          "base_uri": "https://localhost:8080/"
        },
        "id": "C6ku5L374v08",
        "outputId": "70cfb37a-e9e3-4f67-8de8-4e59a4576d3e"
      },
      "execution_count": 24,
      "outputs": [
        {
          "output_type": "stream",
          "name": "stdout",
          "text": [
            "+--------+\n",
            "|col_name|\n",
            "+--------+\n",
            "|train_id|\n",
            "| station|\n",
            "|    time|\n",
            "+--------+\n",
            "\n",
            "+--------+-------+----+\n",
            "|train_id|station|time|\n",
            "+--------+-------+----+\n",
            "+--------+-------+----+\n",
            "\n",
            "+--------+---------+-------+\n",
            "|col_name|data_type|comment|\n",
            "+--------+---------+-------+\n",
            "|train_id|   string|   null|\n",
            "| station|   string|   null|\n",
            "|    time|   string|   null|\n",
            "+--------+---------+-------+\n",
            "\n"
          ]
        }
      ]
    },
    {
      "cell_type": "markdown",
      "source": [
        "## Running sums using window function SQL"
      ],
      "metadata": {
        "id": "mjRN4rGu5bbe"
      }
    },
    {
      "cell_type": "markdown",
      "source": [
        "### Add col time_next that gets time to next stop"
      ],
      "metadata": {
        "id": "6LoC59Fb5i1c"
      }
    },
    {
      "cell_type": "code",
      "source": [
        "query = \"\"\"\n",
        "SELECT \n",
        "ROW_NUMBER() OVER (ORDER BY time) AS row,\n",
        "train_id, \n",
        "station, \n",
        "time, \n",
        "LEAD(time,1) OVER (PARTITION BY train_id ORDER BY time) AS time_next \n",
        "FROM schedule\n",
        "\"\"\"\n",
        "\n"
      ],
      "metadata": {
        "id": "-nH-0ZBb5Uwz"
      },
      "execution_count": 25,
      "outputs": []
    },
    {
      "cell_type": "markdown",
      "source": [
        "### Run the query and display the result"
      ],
      "metadata": {
        "id": "G2P-30Gx52Oh"
      }
    },
    {
      "cell_type": "code",
      "source": [
        "spark.sql(query).show()"
      ],
      "metadata": {
        "colab": {
          "base_uri": "https://localhost:8080/"
        },
        "id": "nC8yheR855CD",
        "outputId": "0203f3c1-df75-4242-c3aa-6a18b249cdc1"
      },
      "execution_count": 26,
      "outputs": [
        {
          "output_type": "stream",
          "name": "stdout",
          "text": [
            "+---+--------+-------------+-----+---------+\n",
            "|row|train_id|      station| time|time_next|\n",
            "+---+--------+-------------+-----+---------+\n",
            "|  1|     217|       Gilroy|6:06a|    6:15a|\n",
            "|  2|     217|   San Martin|6:15a|    6:21a|\n",
            "|  3|     217|  Morgan Hill|6:21a|    6:36a|\n",
            "|  4|     217| Blossom Hill|6:36a|    6:42a|\n",
            "|  5|     217|      Capitol|6:42a|    6:50a|\n",
            "|  6|     217|       Tamien|6:50a|    6:59a|\n",
            "|  7|     217|     San Jose|6:59a|     null|\n",
            "|  8|     324|San Francisco|7:59a|    8:03a|\n",
            "|  9|     324|  22nd Street|8:03a|    8:16a|\n",
            "| 10|     324|     Millbrae|8:16a|    8:24a|\n",
            "| 11|     324|    Hillsdale|8:24a|    8:31a|\n",
            "| 12|     324| Redwood City|8:31a|    8:37a|\n",
            "| 13|     324|    Palo Alto|8:37a|    9:05a|\n",
            "| 14|     324|     San Jose|9:05a|     null|\n",
            "+---+--------+-------------+-----+---------+\n",
            "\n"
          ]
        }
      ]
    },
    {
      "cell_type": "markdown",
      "source": [
        "### Three way to select 2 columns"
      ],
      "metadata": {
        "id": "5ZJEggHnFwnI"
      }
    },
    {
      "cell_type": "code",
      "source": [
        "df.select('train_id', 'station').show()"
      ],
      "metadata": {
        "colab": {
          "base_uri": "https://localhost:8080/"
        },
        "id": "WUaLGlkHF7Qg",
        "outputId": "7e9d2bca-6ff8-4f59-e277-63c20191dfc0"
      },
      "execution_count": 34,
      "outputs": [
        {
          "output_type": "stream",
          "name": "stdout",
          "text": [
            "+--------+-------------+\n",
            "|train_id|      station|\n",
            "+--------+-------------+\n",
            "|     324|San Francisco|\n",
            "|     324|  22nd Street|\n",
            "|     324|     Millbrae|\n",
            "|     324|    Hillsdale|\n",
            "|     324| Redwood City|\n",
            "|     324|    Palo Alto|\n",
            "|     324|     San Jose|\n",
            "|     217|       Gilroy|\n",
            "|     217|   San Martin|\n",
            "|     217|  Morgan Hill|\n",
            "|     217| Blossom Hill|\n",
            "|     217|      Capitol|\n",
            "|     217|       Tamien|\n",
            "|     217|     San Jose|\n",
            "+--------+-------------+\n",
            "\n"
          ]
        }
      ]
    },
    {
      "cell_type": "code",
      "source": [
        "df.select(df.train_id, df.station).show()"
      ],
      "metadata": {
        "colab": {
          "base_uri": "https://localhost:8080/"
        },
        "id": "rB4fz07sGJ8Y",
        "outputId": "80c9538e-f842-416d-964c-b24373b73168"
      },
      "execution_count": 36,
      "outputs": [
        {
          "output_type": "stream",
          "name": "stdout",
          "text": [
            "+--------+-------------+\n",
            "|train_id|      station|\n",
            "+--------+-------------+\n",
            "|     324|San Francisco|\n",
            "|     324|  22nd Street|\n",
            "|     324|     Millbrae|\n",
            "|     324|    Hillsdale|\n",
            "|     324| Redwood City|\n",
            "|     324|    Palo Alto|\n",
            "|     324|     San Jose|\n",
            "|     217|       Gilroy|\n",
            "|     217|   San Martin|\n",
            "|     217|  Morgan Hill|\n",
            "|     217| Blossom Hill|\n",
            "|     217|      Capitol|\n",
            "|     217|       Tamien|\n",
            "|     217|     San Jose|\n",
            "+--------+-------------+\n",
            "\n"
          ]
        }
      ]
    },
    {
      "cell_type": "code",
      "source": [
        "from pyspark.sql.functions import col\n",
        "df.select(col('train_id'), col('station')).show()"
      ],
      "metadata": {
        "colab": {
          "base_uri": "https://localhost:8080/"
        },
        "id": "3XBZmdJ3GUyl",
        "outputId": "25fa37d6-e6be-4348-b9a4-8041bb9f61ca"
      },
      "execution_count": 38,
      "outputs": [
        {
          "output_type": "stream",
          "name": "stdout",
          "text": [
            "+--------+-------------+\n",
            "|train_id|      station|\n",
            "+--------+-------------+\n",
            "|     324|San Francisco|\n",
            "|     324|  22nd Street|\n",
            "|     324|     Millbrae|\n",
            "|     324|    Hillsdale|\n",
            "|     324| Redwood City|\n",
            "|     324|    Palo Alto|\n",
            "|     324|     San Jose|\n",
            "|     217|       Gilroy|\n",
            "|     217|   San Martin|\n",
            "|     217|  Morgan Hill|\n",
            "|     217| Blossom Hill|\n",
            "|     217|      Capitol|\n",
            "|     217|       Tamien|\n",
            "|     217|     San Jose|\n",
            "+--------+-------------+\n",
            "\n"
          ]
        }
      ]
    },
    {
      "cell_type": "markdown",
      "source": [
        "### Two way to rename columns"
      ],
      "metadata": {
        "id": "MH1sJPv2HE4o"
      }
    },
    {
      "cell_type": "code",
      "source": [
        "df.select('train_id', 'station').withColumnRenamed('train_id', 'train').show(5)\n"
      ],
      "metadata": {
        "colab": {
          "base_uri": "https://localhost:8080/"
        },
        "id": "eUOlxfPHHIuF",
        "outputId": "cc376e8a-7177-4c8d-e78d-ccacf081995a"
      },
      "execution_count": 40,
      "outputs": [
        {
          "output_type": "stream",
          "name": "stdout",
          "text": [
            "+-----+-------------+\n",
            "|train|      station|\n",
            "+-----+-------------+\n",
            "|  324|San Francisco|\n",
            "|  324|  22nd Street|\n",
            "|  324|     Millbrae|\n",
            "|  324|    Hillsdale|\n",
            "|  324| Redwood City|\n",
            "+-----+-------------+\n",
            "only showing top 5 rows\n",
            "\n"
          ]
        }
      ]
    },
    {
      "cell_type": "code",
      "source": [
        "df.select(col('train_id').alias('train'), 'station').show()"
      ],
      "metadata": {
        "colab": {
          "base_uri": "https://localhost:8080/"
        },
        "id": "yzcMXOT6IBdg",
        "outputId": "eb576cd5-4789-4250-b427-86f133675e31"
      },
      "execution_count": 43,
      "outputs": [
        {
          "output_type": "stream",
          "name": "stdout",
          "text": [
            "+-----+-------------+\n",
            "|train|      station|\n",
            "+-----+-------------+\n",
            "|  324|San Francisco|\n",
            "|  324|  22nd Street|\n",
            "|  324|     Millbrae|\n",
            "|  324|    Hillsdale|\n",
            "|  324| Redwood City|\n",
            "|  324|    Palo Alto|\n",
            "|  324|     San Jose|\n",
            "|  217|       Gilroy|\n",
            "|  217|   San Martin|\n",
            "|  217|  Morgan Hill|\n",
            "|  217| Blossom Hill|\n",
            "|  217|      Capitol|\n",
            "|  217|       Tamien|\n",
            "|  217|     San Jose|\n",
            "+-----+-------------+\n",
            "\n"
          ]
        }
      ]
    },
    {
      "cell_type": "markdown",
      "source": [
        "## Windows function\n",
        "* Using SQL"
      ],
      "metadata": {
        "id": "_VDNTy0hONEy"
      }
    },
    {
      "cell_type": "code",
      "source": [
        "query = \"\"\"\n",
        "SELECT *,\n",
        "ROW_NUMBER() OVER (PARTITION BY train_id ORDER BY time) AS id\n",
        "FROM schedule\n",
        "\"\"\"\n",
        "spark.sql(query).show(11)"
      ],
      "metadata": {
        "colab": {
          "base_uri": "https://localhost:8080/"
        },
        "id": "WZ2A9Ck4OVeB",
        "outputId": "287b0eb1-83a7-4c5c-cddf-4eb2ad7c7f82"
      },
      "execution_count": 54,
      "outputs": [
        {
          "output_type": "stream",
          "name": "stdout",
          "text": [
            "+--------+-------------+-----+---+\n",
            "|train_id|      station| time| id|\n",
            "+--------+-------------+-----+---+\n",
            "|     217|       Gilroy|6:06a|  1|\n",
            "|     217|   San Martin|6:15a|  2|\n",
            "|     217|  Morgan Hill|6:21a|  3|\n",
            "|     217| Blossom Hill|6:36a|  4|\n",
            "|     217|      Capitol|6:42a|  5|\n",
            "|     217|       Tamien|6:50a|  6|\n",
            "|     217|     San Jose|6:59a|  7|\n",
            "|     324|San Francisco|7:59a|  1|\n",
            "|     324|  22nd Street|8:03a|  2|\n",
            "|     324|     Millbrae|8:16a|  3|\n",
            "|     324|    Hillsdale|8:24a|  4|\n",
            "+--------+-------------+-----+---+\n",
            "only showing top 11 rows\n",
            "\n"
          ]
        }
      ]
    },
    {
      "cell_type": "markdown",
      "source": [
        "* Using dot notation"
      ],
      "metadata": {
        "id": "GgtLkam3P6f6"
      }
    },
    {
      "cell_type": "code",
      "source": [
        "from pyspark.sql import Window\n",
        "from pyspark.sql.functions import row_number\n",
        "df.withColumn(\"id\", row_number()\n",
        ".over(\n",
        "    Window.partitionBy('train_id')\n",
        "    .orderBy('time')\n",
        "  )\n",
        ").show(11)"
      ],
      "metadata": {
        "colab": {
          "base_uri": "https://localhost:8080/"
        },
        "id": "G5tlggdQP82K",
        "outputId": "eadb2fe6-16a4-430d-c66e-5817d018b25e"
      },
      "execution_count": 59,
      "outputs": [
        {
          "output_type": "stream",
          "name": "stdout",
          "text": [
            "+--------+-------------+-----+---+\n",
            "|train_id|      station| time| id|\n",
            "+--------+-------------+-----+---+\n",
            "|     217|       Gilroy|6:06a|  1|\n",
            "|     217|   San Martin|6:15a|  2|\n",
            "|     217|  Morgan Hill|6:21a|  3|\n",
            "|     217| Blossom Hill|6:36a|  4|\n",
            "|     217|      Capitol|6:42a|  5|\n",
            "|     217|       Tamien|6:50a|  6|\n",
            "|     217|     San Jose|6:59a|  7|\n",
            "|     324|San Francisco|7:59a|  1|\n",
            "|     324|  22nd Street|8:03a|  2|\n",
            "|     324|     Millbrae|8:16a|  3|\n",
            "|     324|    Hillsdale|8:24a|  4|\n",
            "+--------+-------------+-----+---+\n",
            "only showing top 11 rows\n",
            "\n"
          ]
        }
      ]
    },
    {
      "cell_type": "markdown",
      "source": [
        "## Using a WindowsSpec\n",
        "* The **over** function in Spark SQL corresponds to a **OVER** clause in SQL\n",
        "* The class **pyspark.sql.window.Window** represents the inside of an **OVER** clause"
      ],
      "metadata": {
        "id": "bh-BXgGhSdMy"
      }
    },
    {
      "cell_type": "code",
      "source": [
        "from pyspark.sql import Window\n",
        "from pyspark.sql.functions import lead  \n",
        "\n",
        "window = Window.partitionBy('train_id').orderBy('time')\n",
        "dfx = df.withColumn('next', lead('time', 1).over(window))\n",
        "dfx.show()"
      ],
      "metadata": {
        "colab": {
          "base_uri": "https://localhost:8080/"
        },
        "id": "bEHz-VD8TIfW",
        "outputId": "30f1d75b-be2b-4fbc-f1a0-37e17652d058"
      },
      "execution_count": 63,
      "outputs": [
        {
          "output_type": "stream",
          "name": "stdout",
          "text": [
            "+--------+-------------+-----+-----+\n",
            "|train_id|      station| time| next|\n",
            "+--------+-------------+-----+-----+\n",
            "|     217|       Gilroy|6:06a|6:15a|\n",
            "|     217|   San Martin|6:15a|6:21a|\n",
            "|     217|  Morgan Hill|6:21a|6:36a|\n",
            "|     217| Blossom Hill|6:36a|6:42a|\n",
            "|     217|      Capitol|6:42a|6:50a|\n",
            "|     217|       Tamien|6:50a|6:59a|\n",
            "|     217|     San Jose|6:59a| null|\n",
            "|     324|San Francisco|7:59a|8:03a|\n",
            "|     324|  22nd Street|8:03a|8:16a|\n",
            "|     324|     Millbrae|8:16a|8:24a|\n",
            "|     324|    Hillsdale|8:24a|8:31a|\n",
            "|     324| Redwood City|8:31a|8:37a|\n",
            "|     324|    Palo Alto|8:37a|9:05a|\n",
            "|     324|     San Jose|9:05a| null|\n",
            "+--------+-------------+-----+-----+\n",
            "\n"
          ]
        }
      ]
    },
    {
      "cell_type": "markdown",
      "source": [
        "## SQL queries using dot notation\n",
        "### Excercise 1\n",
        "* Using SQL"
      ],
      "metadata": {
        "id": "igiQY9b2KOAa"
      }
    },
    {
      "cell_type": "code",
      "source": [
        "spark.sql('SELECT train_id AS train, station FROM schedule LIMIT 5').show()"
      ],
      "metadata": {
        "colab": {
          "base_uri": "https://localhost:8080/"
        },
        "id": "0xga_3__Kj0Z",
        "outputId": "5e56b3bd-e6c2-464f-debf-67df76374e8d"
      },
      "execution_count": 45,
      "outputs": [
        {
          "output_type": "stream",
          "name": "stdout",
          "text": [
            "+-----+-------------+\n",
            "|train|      station|\n",
            "+-----+-------------+\n",
            "|  324|San Francisco|\n",
            "|  324|  22nd Street|\n",
            "|  324|     Millbrae|\n",
            "|  324|    Hillsdale|\n",
            "|  324| Redwood City|\n",
            "+-----+-------------+\n",
            "\n"
          ]
        }
      ]
    },
    {
      "cell_type": "markdown",
      "source": [
        "* Using dot notation"
      ],
      "metadata": {
        "id": "6cz2e7cAK5tt"
      }
    },
    {
      "cell_type": "code",
      "source": [
        "df.select(col('train_id').alias('train'), 'station').limit(5).show()"
      ],
      "metadata": {
        "colab": {
          "base_uri": "https://localhost:8080/"
        },
        "id": "6he0ApxTKYSD",
        "outputId": "e5b3d8ed-3d32-45c0-b522-0f2fbf15d78b"
      },
      "execution_count": 48,
      "outputs": [
        {
          "output_type": "stream",
          "name": "stdout",
          "text": [
            "+-----+-------------+\n",
            "|train|      station|\n",
            "+-----+-------------+\n",
            "|  324|San Francisco|\n",
            "|  324|  22nd Street|\n",
            "|  324|     Millbrae|\n",
            "|  324|    Hillsdale|\n",
            "|  324| Redwood City|\n",
            "+-----+-------------+\n",
            "\n"
          ]
        }
      ]
    },
    {
      "cell_type": "markdown",
      "source": [
        "### Excercise 2. \n",
        "#### Aggregations\n",
        "\n",
        "Give the identical result in each command\n",
        "* Using SQL"
      ],
      "metadata": {
        "id": "9h6zOEuYDBM5"
      }
    },
    {
      "cell_type": "code",
      "source": [
        "\n",
        "spark.sql('SELECT train_id, MIN(time) AS start FROM schedule GROUP BY train_id').show()"
      ],
      "metadata": {
        "colab": {
          "base_uri": "https://localhost:8080/"
        },
        "id": "FKqcdHxSDIBQ",
        "outputId": "53363134-45c1-47e9-9fa6-07f2bd94b12c"
      },
      "execution_count": 27,
      "outputs": [
        {
          "output_type": "stream",
          "name": "stdout",
          "text": [
            "+--------+-----+\n",
            "|train_id|start|\n",
            "+--------+-----+\n",
            "|     217|6:06a|\n",
            "|     324|7:59a|\n",
            "+--------+-----+\n",
            "\n"
          ]
        }
      ]
    },
    {
      "cell_type": "markdown",
      "source": [
        "* Using dot notation"
      ],
      "metadata": {
        "id": "I-a6AETBDgt6"
      }
    },
    {
      "cell_type": "code",
      "source": [
        "df.groupBy('train_id').agg({'time':'min'}).withColumnRenamed('min(time)', 'start').show()"
      ],
      "metadata": {
        "colab": {
          "base_uri": "https://localhost:8080/"
        },
        "id": "kMXfu0L1DklN",
        "outputId": "a527ecdb-f76a-41be-d553-0cdfa415c769"
      },
      "execution_count": 28,
      "outputs": [
        {
          "output_type": "stream",
          "name": "stdout",
          "text": [
            "+--------+-----+\n",
            "|train_id|start|\n",
            "+--------+-----+\n",
            "|     217|6:06a|\n",
            "|     324|7:59a|\n",
            "+--------+-----+\n",
            "\n"
          ]
        }
      ]
    },
    {
      "cell_type": "markdown",
      "source": [
        "Print the second column of the result\n",
        "* Using SQL"
      ],
      "metadata": {
        "id": "MnVyUP7QEEaG"
      }
    },
    {
      "cell_type": "code",
      "source": [
        "spark.sql('SELECT train_id, MIN(time), MAX(time) FROM schedule GROUP BY train_id').show()"
      ],
      "metadata": {
        "colab": {
          "base_uri": "https://localhost:8080/"
        },
        "id": "aZbXDONqEGRN",
        "outputId": "283b598d-9e57-4cb1-d58a-a8ceb70b3fd9"
      },
      "execution_count": 29,
      "outputs": [
        {
          "output_type": "stream",
          "name": "stdout",
          "text": [
            "+--------+---------+---------+\n",
            "|train_id|min(time)|max(time)|\n",
            "+--------+---------+---------+\n",
            "|     217|    6:06a|    6:59a|\n",
            "|     324|    7:59a|    9:05a|\n",
            "+--------+---------+---------+\n",
            "\n"
          ]
        }
      ]
    },
    {
      "cell_type": "markdown",
      "source": [
        "* Using dot notation"
      ],
      "metadata": {
        "id": "XSWIUCdbEXwQ"
      }
    },
    {
      "cell_type": "code",
      "source": [
        "result = df.groupBy('train_id').agg({'time':'min', 'time':'max'})\n",
        "result.show()\n",
        "print(result.columns[1])"
      ],
      "metadata": {
        "colab": {
          "base_uri": "https://localhost:8080/"
        },
        "id": "QabTsB20EazJ",
        "outputId": "80cec60b-dd11-4a17-8541-b597ab2c394a"
      },
      "execution_count": 33,
      "outputs": [
        {
          "output_type": "stream",
          "name": "stdout",
          "text": [
            "+--------+---------+\n",
            "|train_id|max(time)|\n",
            "+--------+---------+\n",
            "|     217|    6:59a|\n",
            "|     324|    9:05a|\n",
            "+--------+---------+\n",
            "\n",
            "max(time)\n"
          ]
        }
      ]
    },
    {
      "cell_type": "markdown",
      "source": [
        "### Excercise 3\n",
        "#### Aggregating the same column twice\n",
        "* Using dot notation\n"
      ],
      "metadata": {
        "id": "K3ZYVy67UlCR"
      }
    },
    {
      "cell_type": "code",
      "source": [
        "from pyspark.sql.functions import min, max, col\n",
        "expr = [min(col(\"time\")).alias('start'), max(col(\"time\")).alias('end')]\n",
        "dot_df = df.groupBy(\"train_id\").agg(*expr)\n",
        "dot_df.show()"
      ],
      "metadata": {
        "colab": {
          "base_uri": "https://localhost:8080/"
        },
        "id": "ssCP-K0XVGIR",
        "outputId": "960a52f8-1da5-4f09-96f9-79f0e5c8a8e2"
      },
      "execution_count": 64,
      "outputs": [
        {
          "output_type": "stream",
          "name": "stdout",
          "text": [
            "+--------+-----+-----+\n",
            "|train_id|start|  end|\n",
            "+--------+-----+-----+\n",
            "|     217|6:06a|6:59a|\n",
            "|     324|7:59a|9:05a|\n",
            "+--------+-----+-----+\n",
            "\n"
          ]
        }
      ]
    },
    {
      "cell_type": "markdown",
      "source": [
        "* Using SQL"
      ],
      "metadata": {
        "id": "yOm9YyImVQFh"
      }
    },
    {
      "cell_type": "code",
      "source": [
        "query = \"SELECT train_id, MIN(time) as start, MAX(time) as end FROM schedule GROUP BY train_id\"\n",
        "sql_df = spark.sql(query)\n",
        "sql_df.show()"
      ],
      "metadata": {
        "colab": {
          "base_uri": "https://localhost:8080/"
        },
        "id": "-eTAZegPVS3i",
        "outputId": "1d276239-f46e-435b-bf69-78efb7a21c5d"
      },
      "execution_count": 65,
      "outputs": [
        {
          "output_type": "stream",
          "name": "stdout",
          "text": [
            "+--------+-----+-----+\n",
            "|train_id|start|  end|\n",
            "+--------+-----+-----+\n",
            "|     217|6:06a|6:59a|\n",
            "|     324|7:59a|9:05a|\n",
            "+--------+-----+-----+\n",
            "\n"
          ]
        }
      ]
    },
    {
      "cell_type": "markdown",
      "source": [
        "### Excercise 4\n",
        "* Using SQL"
      ],
      "metadata": {
        "id": "rFhHr_UiVkej"
      }
    },
    {
      "cell_type": "code",
      "source": [
        "df = spark.sql(\"\"\"\n",
        "SELECT *, \n",
        "LEAD(time,1) OVER(PARTITION BY train_id ORDER BY time) AS time_next \n",
        "FROM schedule\n",
        "\"\"\").show()"
      ],
      "metadata": {
        "colab": {
          "base_uri": "https://localhost:8080/"
        },
        "id": "AbndBV2_VsPa",
        "outputId": "ff4a5658-6999-4673-afb7-3a9767f21885"
      },
      "execution_count": 66,
      "outputs": [
        {
          "output_type": "stream",
          "name": "stdout",
          "text": [
            "+--------+-------------+-----+---------+\n",
            "|train_id|      station| time|time_next|\n",
            "+--------+-------------+-----+---------+\n",
            "|     217|       Gilroy|6:06a|    6:15a|\n",
            "|     217|   San Martin|6:15a|    6:21a|\n",
            "|     217|  Morgan Hill|6:21a|    6:36a|\n",
            "|     217| Blossom Hill|6:36a|    6:42a|\n",
            "|     217|      Capitol|6:42a|    6:50a|\n",
            "|     217|       Tamien|6:50a|    6:59a|\n",
            "|     217|     San Jose|6:59a|     null|\n",
            "|     324|San Francisco|7:59a|    8:03a|\n",
            "|     324|  22nd Street|8:03a|    8:16a|\n",
            "|     324|     Millbrae|8:16a|    8:24a|\n",
            "|     324|    Hillsdale|8:24a|    8:31a|\n",
            "|     324| Redwood City|8:31a|    8:37a|\n",
            "|     324|    Palo Alto|8:37a|    9:05a|\n",
            "|     324|     San Jose|9:05a|     null|\n",
            "+--------+-------------+-----+---------+\n",
            "\n"
          ]
        }
      ]
    },
    {
      "cell_type": "markdown",
      "source": [
        "* Using Dot notation"
      ],
      "metadata": {
        "id": "oWDSnxczVzfl"
      }
    },
    {
      "cell_type": "code",
      "source": [
        "filename = '/content/drive/My Drive/trainsched.txt'\n",
        "df = spark.read.csv(filename, header=True)\n",
        "\n",
        "dot_df = df.withColumn('time_next', lead('time', 1)\n",
        ".over(Window.partitionBy('train_id')\n",
        ".orderBy('time'))).show()"
      ],
      "metadata": {
        "colab": {
          "base_uri": "https://localhost:8080/"
        },
        "id": "M4lokvB9V3Ss",
        "outputId": "0817c7dd-b755-4f99-80cb-25f874ce0669"
      },
      "execution_count": 70,
      "outputs": [
        {
          "output_type": "stream",
          "name": "stdout",
          "text": [
            "+--------+-------------+-----+---------+\n",
            "|train_id|      station| time|time_next|\n",
            "+--------+-------------+-----+---------+\n",
            "|     217|       Gilroy|6:06a|    6:15a|\n",
            "|     217|   San Martin|6:15a|    6:21a|\n",
            "|     217|  Morgan Hill|6:21a|    6:36a|\n",
            "|     217| Blossom Hill|6:36a|    6:42a|\n",
            "|     217|      Capitol|6:42a|    6:50a|\n",
            "|     217|       Tamien|6:50a|    6:59a|\n",
            "|     217|     San Jose|6:59a|     null|\n",
            "|     324|San Francisco|7:59a|    8:03a|\n",
            "|     324|  22nd Street|8:03a|    8:16a|\n",
            "|     324|     Millbrae|8:16a|    8:24a|\n",
            "|     324|    Hillsdale|8:24a|    8:31a|\n",
            "|     324| Redwood City|8:31a|    8:37a|\n",
            "|     324|    Palo Alto|8:37a|    9:05a|\n",
            "|     324|     San Jose|9:05a|     null|\n",
            "+--------+-------------+-----+---------+\n",
            "\n"
          ]
        }
      ]
    },
    {
      "cell_type": "markdown",
      "source": [
        "### Excercise 5\n",
        "* Using dot notation\n"
      ],
      "metadata": {
        "id": "YXyyVW24Wiat"
      }
    },
    {
      "cell_type": "code",
      "source": [
        "from pyspark.sql.functions import unix_timestamp\n",
        "from pyspark.sql import Window\n",
        "\n",
        "spark.sql(\"set spark.sql.legacy.timeParserPolicy=LEGACY\")\n",
        "window = Window.partitionBy('train_id').orderBy('time')\n",
        "dot_df = df.withColumn('diff_min', \n",
        "                    (unix_timestamp(lead('time', 1).over(window),'H:m') \n",
        "                     - unix_timestamp('time', 'H:m'))/60).show()\n"
      ],
      "metadata": {
        "colab": {
          "base_uri": "https://localhost:8080/"
        },
        "id": "hHLu3CrNWpj2",
        "outputId": "c544b7a5-7ae9-4b1d-e35b-f02981fa7f08"
      },
      "execution_count": 79,
      "outputs": [
        {
          "output_type": "stream",
          "name": "stdout",
          "text": [
            "+--------+-------------+-----+--------+\n",
            "|train_id|      station| time|diff_min|\n",
            "+--------+-------------+-----+--------+\n",
            "|     217|       Gilroy|6:06a|     9.0|\n",
            "|     217|   San Martin|6:15a|     6.0|\n",
            "|     217|  Morgan Hill|6:21a|    15.0|\n",
            "|     217| Blossom Hill|6:36a|     6.0|\n",
            "|     217|      Capitol|6:42a|     8.0|\n",
            "|     217|       Tamien|6:50a|     9.0|\n",
            "|     217|     San Jose|6:59a|    null|\n",
            "|     324|San Francisco|7:59a|     4.0|\n",
            "|     324|  22nd Street|8:03a|    13.0|\n",
            "|     324|     Millbrae|8:16a|     8.0|\n",
            "|     324|    Hillsdale|8:24a|     7.0|\n",
            "|     324| Redwood City|8:31a|     6.0|\n",
            "|     324|    Palo Alto|8:37a|    28.0|\n",
            "|     324|     San Jose|9:05a|    null|\n",
            "+--------+-------------+-----+--------+\n",
            "\n"
          ]
        }
      ]
    },
    {
      "cell_type": "markdown",
      "source": [
        "* Using SQL"
      ],
      "metadata": {
        "id": "oWg9Q3npWqC0"
      }
    },
    {
      "cell_type": "code",
      "source": [
        "query = \"\"\"\n",
        "SELECT *, \n",
        "(UNIX_TIMESTAMP(LEAD(time, 1) OVER (PARTITION BY train_id ORDER BY time),'H:m') \n",
        " - UNIX_TIMESTAMP(time, 'H:m'))/60 AS diff_min \n",
        "FROM schedule \n",
        "\"\"\"\n",
        "spark.sql(\"set spark.sql.legacy.timeParserPolicy=LEGACY\")\n",
        "sql_df = spark.sql(query)\n",
        "sql_df.show()"
      ],
      "metadata": {
        "colab": {
          "base_uri": "https://localhost:8080/"
        },
        "id": "noXmj-6VXk4t",
        "outputId": "8b4b4e81-abad-4884-b840-30016c57d7ad"
      },
      "execution_count": 76,
      "outputs": [
        {
          "output_type": "stream",
          "name": "stdout",
          "text": [
            "+--------+-------------+-----+--------+\n",
            "|train_id|      station| time|diff_min|\n",
            "+--------+-------------+-----+--------+\n",
            "|     217|       Gilroy|6:06a|     9.0|\n",
            "|     217|   San Martin|6:15a|     6.0|\n",
            "|     217|  Morgan Hill|6:21a|    15.0|\n",
            "|     217| Blossom Hill|6:36a|     6.0|\n",
            "|     217|      Capitol|6:42a|     8.0|\n",
            "|     217|       Tamien|6:50a|     9.0|\n",
            "|     217|     San Jose|6:59a|    null|\n",
            "|     324|San Francisco|7:59a|     4.0|\n",
            "|     324|  22nd Street|8:03a|    13.0|\n",
            "|     324|     Millbrae|8:16a|     8.0|\n",
            "|     324|    Hillsdale|8:24a|     7.0|\n",
            "|     324| Redwood City|8:31a|     6.0|\n",
            "|     324|    Palo Alto|8:37a|    28.0|\n",
            "|     324|     San Jose|9:05a|    null|\n",
            "+--------+-------------+-----+--------+\n",
            "\n"
          ]
        }
      ]
    },
    {
      "cell_type": "code",
      "source": [
        ""
      ],
      "metadata": {
        "id": "429SVArhYq6A"
      },
      "execution_count": null,
      "outputs": []
    }
  ]
}